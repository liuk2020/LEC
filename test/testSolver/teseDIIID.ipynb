{
 "cells": [
  {
   "cell_type": "code",
   "execution_count": 1,
   "metadata": {},
   "outputs": [],
   "source": [
    "import lec\n",
    "import xarray\n",
    "\n",
    "vmecOutput = \"./../testField/wout_DIII-D.nc\" \n",
    "surf = lec.Surface.readVMECOutput(vmecOutput)\n",
    "iota = float(xarray.open_dataset(vmecOutput)[\"iotas\"].values[-1])"
   ]
  },
  {
   "cell_type": "code",
   "execution_count": 2,
   "metadata": {},
   "outputs": [],
   "source": [
    "equDIIID = lec.SurfaceEquilibrium(surf=surf, iota=iota)"
   ]
  },
  {
   "cell_type": "code",
   "execution_count": 4,
   "metadata": {},
   "outputs": [],
   "source": [
    "Jacobian = equDIIID.getJacobian()"
   ]
  }
 ],
 "metadata": {
  "kernelspec": {
   "display_name": "Python 3.9.18 ('lec')",
   "language": "python",
   "name": "python3"
  },
  "language_info": {
   "codemirror_mode": {
    "name": "ipython",
    "version": 3
   },
   "file_extension": ".py",
   "mimetype": "text/x-python",
   "name": "python",
   "nbconvert_exporter": "python",
   "pygments_lexer": "ipython3",
   "version": "3.9.18"
  },
  "orig_nbformat": 4,
  "vscode": {
   "interpreter": {
    "hash": "3d501544e2332d9fb14d201c0fdaa238286894a264818d6b2a2d995beaa156b2"
   }
  }
 },
 "nbformat": 4,
 "nbformat_minor": 2
}
